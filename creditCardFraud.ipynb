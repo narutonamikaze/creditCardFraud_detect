{
 "cells": [
  {
   "metadata": {},
   "cell_type": "code",
   "outputs": [],
   "execution_count": null,
   "source": [
    "import numpy as np\n",
    "import pandas as pd\n",
    "import os\n",
    "for dirname, _, filenames in os.walk('/kaggle/input'):\n",
    "    for filename in filenames:\n",
    "        print(os.path.join(dirname, filename))\n",
    "        "
   ],
   "id": "9d6446169c8688f1"
  },
  {
   "metadata": {},
   "cell_type": "code",
   "outputs": [],
   "execution_count": null,
   "source": [
    "!pip install LazyPredict\n",
    "import matplotlib.pyplot as plt\n",
    "import seaborn as sns\n",
    "import pandas as pd\n",
    "from collections import Counter\n",
    "from sklearn.model_selection import StratifiedShuffleSplit\n",
    "from sklearn.metrics import (\n",
    "    accuracy_score, f1_score, precision_score, recall_score, \n",
    "    confusion_matrix, classification_report\n",
    ")\n",
    "from sklearn.ensemble import (\n",
    "    AdaBoostClassifier, BaggingClassifier, ExtraTreesClassifier, \n",
    "    GradientBoostingClassifier, RandomForestClassifier\n",
    ")\n",
    "from sklearn.linear_model import (\n",
    "    LogisticRegression, PassiveAggressiveClassifier, Perceptron, \n",
    "    RidgeClassifier, RidgeClassifierCV, SGDClassifier\n",
    ")\n",
    "from sklearn.svm import LinearSVC, NuSVC, SVC\n",
    "from sklearn.naive_bayes import BernoulliNB, GaussianNB\n",
    "from sklearn.neighbors import KNeighborsClassifier, NearestCentroid\n",
    "from sklearn.tree import DecisionTreeClassifier, ExtraTreeClassifier\n",
    "from sklearn.discriminant_analysis import LinearDiscriminantAnalysis, QuadraticDiscriminantAnalysis\n",
    "from sklearn.semi_supervised import LabelPropagation, LabelSpreading\n",
    "from sklearn.dummy import DummyClassifier\n",
    "from sklearn.calibration import CalibratedClassifierCV\n",
    "from xgboost import XGBClassifier\n",
    "from lightgbm import LGBMClassifier\n",
    "from imblearn.under_sampling import RandomUnderSampler\n",
    "from lazypredict.Supervised import LazyClassifier\n",
    "\n",
    "import warnings\n",
    "warnings.filterwarnings(action='ignore')\n",
    "\n",
    "%matplotlib inline\n",
    "plt.style.use('ggplot')"
   ],
   "id": "a2d40bd5057eef08"
  },
  {
   "metadata": {},
   "cell_type": "code",
   "outputs": [],
   "execution_count": null,
   "source": "df = pd.read_csv('/kaggle/input/creditcardfraud/creditcard.csv')",
   "id": "f03e2edd9df90634"
  },
  {
   "metadata": {},
   "cell_type": "code",
   "outputs": [],
   "execution_count": null,
   "source": "df.head()",
   "id": "8f1b249e7afc21fb"
  },
  {
   "metadata": {},
   "cell_type": "code",
   "outputs": [],
   "execution_count": null,
   "source": "df['Time'].describe()",
   "id": "2900baac49406e97"
  },
  {
   "metadata": {},
   "cell_type": "code",
   "outputs": [],
   "execution_count": null,
   "source": "df.info()",
   "id": "cdc6fd76b3b9b034"
  },
  {
   "metadata": {},
   "cell_type": "code",
   "outputs": [],
   "execution_count": null,
   "source": "df.isna().sum()",
   "id": "92f0f600b7a51ce"
  },
  {
   "metadata": {},
   "cell_type": "code",
   "outputs": [],
   "execution_count": null,
   "source": [
    "import plotly.express as px \n",
    "fig = px.pie(data_frame = df,names = 'Class',title = 'Distribution of Classes',)\n",
    "fig.show()"
   ],
   "id": "2bd72484de3fcdd9"
  },
  {
   "metadata": {},
   "cell_type": "code",
   "outputs": [],
   "execution_count": null,
   "source": [
    "fig,ax = plt.subplots(1,2,figsize = (15,6))\n",
    "fig.suptitle('Comparison of Normal and Fraud Transactions wrt Amount', fontsize=16)\n",
    "\n",
    "\n",
    "sns.kdeplot(df[df['Class'] == 0]['Amount'], label='Amount',ax = ax[0])\n",
    "sns.kdeplot(df[df['Class'] == 1]['Amount'], label='FraudAmount',ax = ax[0])\n",
    "ax[0].set_xscale('symlog')\n",
    "ax[0].set_xlabel('log(Amount)')\n",
    "ax[0].set_ylabel('Probability')\n",
    "plt.legend()\n",
    "\n",
    "plt.subplot(1, 2, 2)\n",
    "sns.scatterplot(df[df['Class'] == 0]['Amount'].describe(), label='Amount',ax = ax[1])\n",
    "sns.scatterplot(df[df['Class'] == 1]['Amount'].describe(), label='FraudAmount',ax = ax[1])\n",
    "ax[1].set_yscale('log')\n",
    "ax[1].set_xlabel('')\n",
    "ax[1].set_ylabel('log(Value)')\n",
    "plt.tight_layout()\n",
    "plt.show()"
   ],
   "id": "46c21f3394b9c4f7"
  },
  {
   "metadata": {},
   "cell_type": "code",
   "outputs": [],
   "execution_count": null,
   "source": [
    "fig,ax = plt.subplots(9,3,figsize=(30,40))\n",
    "ax = ax.flatten()\n",
    "for i,column in enumerate(df.columns[1:28]):\n",
    "\n",
    "    sns.histplot(data = df, x = df[column],ax = ax[i])\n",
    "plt.tight_layout()    \n",
    "plt.show()"
   ],
   "id": "33c75bf458158aa3"
  },
  {
   "metadata": {},
   "cell_type": "code",
   "outputs": [],
   "execution_count": null,
   "source": [
    "plt.figure(figsize=(30,20))\n",
    "sns.heatmap(df.corr(),cbar = 'coolwarm', annot = True, fmt = \"0.2f\")\n",
    "\n",
    "for corr,column in zip(df.corr().iloc[30],df.columns):\n",
    "    if abs(corr)<0.13:\n",
    "        df.drop(columns = column , inplace = True)"
   ],
   "id": "bb4152d44469d40"
  },
  {
   "metadata": {},
   "cell_type": "code",
   "outputs": [],
   "execution_count": null,
   "source": [
    "plt.figure(figsize=(15,6))\n",
    "plt.title('Heatmap of Modified DataFrame')\n",
    "sns.heatmap(df.corr(),cmap='coolwarm',fmt='0.2f',annot = True)\n",
    "plt.show()"
   ],
   "id": "705e80784f0e486e"
  },
  {
   "metadata": {},
   "cell_type": "code",
   "outputs": [],
   "execution_count": null,
   "source": [
    "fig,ax = plt.subplots(3,3,figsize=(20,20))\n",
    "ax = ax.flatten()\n",
    "plt.suptitle('Box Plot to check for Outliers')\n",
    "for i,column in enumerate(df.columns):\n",
    "    if i ==9:\n",
    "        continue\n",
    "    sns.boxplot(data = df , x = column, ax = ax[i])\n",
    "    plt.title(column)"
   ],
   "id": "a7a5020ce024168f"
  },
  {
   "metadata": {},
   "cell_type": "code",
   "outputs": [],
   "execution_count": null,
   "source": [
    "X = df.drop(columns = ['Class'])\n",
    "y = df['Class']\n",
    "sss = StratifiedShuffleSplit(n_splits=1, test_size=0.2, random_state=42)\n",
    "\n",
    "for train_index, test_index in sss.split(X, y):\n",
    "    X_train, X_test = X.iloc[train_index], X.iloc[test_index]\n",
    "    y_train, y_test = y.iloc[train_index], y.iloc[test_index]\n",
    "print(f' shape of X_train is {X_train.shape}, shape of X_test is {X_test.shape}, shape of y_train is {y_train.shape}, shape of y_test is {y_test.shape}')"
   ],
   "id": "34cd4d4d4074ede6"
  },
  {
   "metadata": {},
   "cell_type": "code",
   "outputs": [],
   "execution_count": null,
   "source": [
    "rus = RandomUnderSampler(random_state = 7)\n",
    "X_res, y_res = rus.fit_resample(X_train, y_train)\n",
    "\n",
    "print(f' shape of X_res_rus is {X_res.shape}, shape of y_res_rus is {y_res.shape}')\n",
    "print(f'Distribution of y_res_rus: {Counter(y_res)}')"
   ],
   "id": "850c36cc697791ed"
  },
  {
   "metadata": {},
   "cell_type": "code",
   "outputs": [],
   "execution_count": null,
   "source": [
    "clf = LazyClassifier(predictions=True)\n",
    "models, predictions = clf.fit(X_res, X_test, y_res, y_test)\n",
    "\n",
    "# lazyPredict used weighted f1_Score , which is misleading in case of imbalanced Data "
   ],
   "id": "779b1f71f3a7291a"
  },
  {
   "metadata": {},
   "cell_type": "code",
   "outputs": [],
   "execution_count": null,
   "source": "models",
   "id": "b4612b34b50ffb8"
  },
  {
   "metadata": {},
   "cell_type": "code",
   "outputs": [],
   "execution_count": null,
   "source": [
    "models = {\n",
    "    \"ExtraTreesClassifier\": ExtraTreesClassifier(),\n",
    "    \"LabelPropagation\": LabelPropagation(),\n",
    "    \"LabelSpreading\": LabelSpreading(),\n",
    "    \"LGBMClassifier\": LGBMClassifier(),\n",
    "    \"LinearSVC\": LinearSVC(),\n",
    "    \"CalibratedClassifierCV\": CalibratedClassifierCV(),\n",
    "    \"RandomForestClassifier\": RandomForestClassifier(),\n",
    "    \"SGDClassifier\": SGDClassifier(),\n",
    "    \"LogisticRegression\": LogisticRegression(),\n",
    "    \"KNeighborsClassifier\": KNeighborsClassifier(),\n",
    "    \"Perceptron\": Perceptron(),\n",
    "    \"QuadraticDiscriminantAnalysis\": QuadraticDiscriminantAnalysis(),\n",
    "    \"SVC\": SVC(),\n",
    "    \"GaussianNB\": GaussianNB(),\n",
    "    \"BernoulliNB\": BernoulliNB(),\n",
    "    \"XGBClassifier\": XGBClassifier(),\n",
    "    \"AdaBoostClassifier\": AdaBoostClassifier(),\n",
    "    \"BaggingClassifier\": BaggingClassifier(),\n",
    "    \"NuSVC\": NuSVC(),\"DecisionTreeClassifier\": DecisionTreeClassifier(),\n",
    "    \"RidgeClassifier\": RidgeClassifier(),\n",
    "    \"LinearDiscriminantAnalysis\": LinearDiscriminantAnalysis(),\n",
    "    \"ExtraTreeClassifier\": ExtraTreeClassifier(),\n",
    "    \"NearestCentroid\": NearestCentroid(),\n",
    "    \"RidgeClassifierCV\": RidgeClassifierCV(),\n",
    "    \"PassiveAggressiveClassifier\": PassiveAggressiveClassifier(),\n",
    "    \"DummyClassifier\": DummyClassifier()\n",
    "}\n",
    "results = {\n",
    "    \"Model\": [],\n",
    "    \"Accuracy\": [],\n",
    "    \"F1 Score Weighted\": [],\n",
    "    \"F1 Score Macro\": [],\n",
    "    \"Precision_weighted\": [],\n",
    "    \"Recall_weighted\": [],\n",
    "    \"Precision_macro_avg\": [],\n",
    "    \"Recall_macro_avg\": []\n",
    "    \n",
    "}\n",
    "\n",
    "\n",
    "for model_name, model in models.items():\n",
    "\n",
    "    model.fit(X_res, y_res)\n",
    "    \n",
    "    y_pred = model.predict(X_test)\n",
    "    results[\"Model\"].append(model_name)\n",
    "    results[\"Accuracy\"].append(accuracy_score(y_test, y_pred))\n",
    "    results[\"F1 Score Weighted\"].append(f1_score(y_test, y_pred, average='weighted'))\n",
    "    results[\"F1 Score Macro\"].append(f1_score(y_test, y_pred, average='macro'))\n",
    "    results[\"Precision_weighted\"].append(precision_score(y_test, y_pred, average='weighted'))\n",
    "    results[\"Recall_weighted\"].append(recall_score(y_test, y_pred, average='weighted'))\n",
    "    results[\"Precision_macro_avg\"].append(precision_score(y_test, y_pred, average='macro'))\n",
    "    results[\"Recall_macro_avg\"].append(recall_score(y_test, y_pred, average='macro'))\n",
    "\n",
    "\n",
    "results_df = pd.DataFrame(results)"
   ],
   "id": "12e5940631e6486f"
  },
  {
   "metadata": {},
   "cell_type": "code",
   "outputs": [],
   "execution_count": null,
   "source": "results_df",
   "id": "4c6390cdb2bf492a"
  },
  {
   "metadata": {},
   "cell_type": "code",
   "outputs": [],
   "execution_count": null,
   "source": [
    "FinalModel = NearestCentroid()\n",
    "FinalModel.fit(X_res, y_res)\n",
    "pred = FinalModel.predict(X_test)\n",
    "print(classification_report(y_test,pred))"
   ],
   "id": "e0888a3b689b0636"
  },
  {
   "metadata": {},
   "cell_type": "code",
   "outputs": [],
   "execution_count": null,
   "source": [
    "conf_matrix = confusion_matrix(y_test, pred)\n",
    "\n",
    "\n",
    "plt.figure(figsize=(10, 7))\n",
    "sns.heatmap(conf_matrix, annot=True, fmt='d', cmap='Blues')\n",
    "plt.xlabel('Predicted')\n",
    "plt.ylabel('Actual')\n",
    "plt.title('Confusion Matrix For NearestCentroid Model')\n",
    "plt.show()"
   ],
   "id": "3818e7b0ff8dd7c4"
  }
 ],
 "metadata": {
  "kernelspec": {
   "display_name": "Python 3",
   "language": "python",
   "name": "python3"
  },
  "language_info": {
   "codemirror_mode": {
    "name": "ipython",
    "version": 2
   },
   "file_extension": ".py",
   "mimetype": "text/x-python",
   "name": "python",
   "nbconvert_exporter": "python",
   "pygments_lexer": "ipython2",
   "version": "2.7.6"
  }
 },
 "nbformat": 4,
 "nbformat_minor": 5
}
